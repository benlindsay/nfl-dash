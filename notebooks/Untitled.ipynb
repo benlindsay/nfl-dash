{
 "cells": [
  {
   "cell_type": "code",
   "execution_count": 1,
   "metadata": {},
   "outputs": [],
   "source": [
    "%load_ext autoreload\n",
    "%autoreload 2"
   ]
  },
  {
   "cell_type": "code",
   "execution_count": 2,
   "metadata": {},
   "outputs": [],
   "source": [
    "import nflgame"
   ]
  },
  {
   "cell_type": "code",
   "execution_count": 10,
   "metadata": {},
   "outputs": [
    {
     "name": "stdout",
     "output_type": "stream",
     "text": [
      "(NYJ, SEA 45, Q4, 1 and 10) (2:25) (No Huddle, Shotgun) R.Fitzpatrick sacked at NYJ 48 for -7 yards (C.Avril). FUMBLES (C.Avril) [C.Avril], recovered by NYJ-C.Peake at SEA 42. C.Peake for 42 yards, TOUCHDOWN.\n",
      "> <ipython-input-10-daf450dd471a>(6)<module>()\n",
      "-> for p in plays:\n",
      "(Pdb) print p.events\n",
      "[{'playerid': None, 'playername': None, 'team': u'NYJ', 'rushing_first_down': 1, 'first_down': 1}, {'passing_sk': 1, 'playerid': u'00-0023682', 'passing_sk_yds': 0, 'playername': u'R.Fitzpatrick', 'team': u'NYJ'}, {'defense_sk_yds': 0, 'playerid': u'00-0026232', 'team': u'SEA', 'playername': u'C.Avril', 'defense_sk': 1.0}, {'defense_qbhit': 1, 'playerid': u'00-0026232', 'playername': u'C.Avril', 'team': u'SEA'}, {'playerid': u'00-0026232', 'playername': u'C.Avril', 'defense_tkl': 1, 'team': u'SEA'}, {'playerid': u'00-0023682', 'fumbles_tot': 1, 'playername': u'R.Fitzpatrick', 'fumbles_forced': 1, 'team': u'NYJ'}, {'playerid': u'00-0026232', 'playername': u'C.Avril', 'defense_ffum': 1, 'team': u'SEA'}, {'playerid': u'00-0032959', 'fumbles_rec': 1, 'fumbles_rec_tds': 1, 'playername': u'C.Peake', 'fumbles_rec_yds': 42, 'team': u'NYJ'}]\n",
      "(Pdb) quit\n"
     ]
    },
    {
     "ename": "BdbQuit",
     "evalue": "",
     "output_type": "error",
     "traceback": [
      "\u001b[0;31m-----------------------------------------------------------------------\u001b[0m",
      "\u001b[0;31mBdbQuit\u001b[0m                               Traceback (most recent call last)",
      "\u001b[0;32m<ipython-input-10-daf450dd471a>\u001b[0m in \u001b[0;36m<module>\u001b[0;34m()\u001b[0m\n\u001b[1;32m      4\u001b[0m \u001b[0mgames\u001b[0m \u001b[0;34m=\u001b[0m \u001b[0mnflgame\u001b[0m\u001b[0;34m.\u001b[0m\u001b[0mgames_gen\u001b[0m\u001b[0;34m(\u001b[0m\u001b[0myear\u001b[0m\u001b[0;34m,\u001b[0m \u001b[0mweek\u001b[0m\u001b[0;34m,\u001b[0m \u001b[0mteam\u001b[0m\u001b[0;34m,\u001b[0m \u001b[0mteam\u001b[0m\u001b[0;34m)\u001b[0m\u001b[0;34m\u001b[0m\u001b[0m\n\u001b[1;32m      5\u001b[0m \u001b[0mplays\u001b[0m \u001b[0;34m=\u001b[0m \u001b[0mnflgame\u001b[0m\u001b[0;34m.\u001b[0m\u001b[0mcombine_plays\u001b[0m\u001b[0;34m(\u001b[0m\u001b[0mgames\u001b[0m\u001b[0;34m)\u001b[0m\u001b[0;34m\u001b[0m\u001b[0m\n\u001b[0;32m----> 6\u001b[0;31m \u001b[0;32mfor\u001b[0m \u001b[0mp\u001b[0m \u001b[0;32min\u001b[0m \u001b[0mplays\u001b[0m\u001b[0;34m:\u001b[0m\u001b[0;34m\u001b[0m\u001b[0m\n\u001b[0m\u001b[1;32m      7\u001b[0m     \u001b[0;32mif\u001b[0m \u001b[0mp\u001b[0m\u001b[0;34m.\u001b[0m\u001b[0mfumbles_rec_tds\u001b[0m \u001b[0;34m>\u001b[0m \u001b[0;36m0\u001b[0m\u001b[0;34m:\u001b[0m\u001b[0;34m\u001b[0m\u001b[0m\n\u001b[1;32m      8\u001b[0m         \u001b[0;32mprint\u001b[0m \u001b[0mp\u001b[0m\u001b[0;34m\u001b[0m\u001b[0m\n",
      "\u001b[0;32m<ipython-input-10-daf450dd471a>\u001b[0m in \u001b[0;36m<module>\u001b[0;34m()\u001b[0m\n\u001b[1;32m      4\u001b[0m \u001b[0mgames\u001b[0m \u001b[0;34m=\u001b[0m \u001b[0mnflgame\u001b[0m\u001b[0;34m.\u001b[0m\u001b[0mgames_gen\u001b[0m\u001b[0;34m(\u001b[0m\u001b[0myear\u001b[0m\u001b[0;34m,\u001b[0m \u001b[0mweek\u001b[0m\u001b[0;34m,\u001b[0m \u001b[0mteam\u001b[0m\u001b[0;34m,\u001b[0m \u001b[0mteam\u001b[0m\u001b[0;34m)\u001b[0m\u001b[0;34m\u001b[0m\u001b[0m\n\u001b[1;32m      5\u001b[0m \u001b[0mplays\u001b[0m \u001b[0;34m=\u001b[0m \u001b[0mnflgame\u001b[0m\u001b[0;34m.\u001b[0m\u001b[0mcombine_plays\u001b[0m\u001b[0;34m(\u001b[0m\u001b[0mgames\u001b[0m\u001b[0;34m)\u001b[0m\u001b[0;34m\u001b[0m\u001b[0m\n\u001b[0;32m----> 6\u001b[0;31m \u001b[0;32mfor\u001b[0m \u001b[0mp\u001b[0m \u001b[0;32min\u001b[0m \u001b[0mplays\u001b[0m\u001b[0;34m:\u001b[0m\u001b[0;34m\u001b[0m\u001b[0m\n\u001b[0m\u001b[1;32m      7\u001b[0m     \u001b[0;32mif\u001b[0m \u001b[0mp\u001b[0m\u001b[0;34m.\u001b[0m\u001b[0mfumbles_rec_tds\u001b[0m \u001b[0;34m>\u001b[0m \u001b[0;36m0\u001b[0m\u001b[0;34m:\u001b[0m\u001b[0;34m\u001b[0m\u001b[0m\n\u001b[1;32m      8\u001b[0m         \u001b[0;32mprint\u001b[0m \u001b[0mp\u001b[0m\u001b[0;34m\u001b[0m\u001b[0m\n",
      "\u001b[0;32m/Users/benlindsay/miniconda/envs/nfl-dash-py2/lib/python2.7/bdb.pyc\u001b[0m in \u001b[0;36mtrace_dispatch\u001b[0;34m(self, frame, event, arg)\u001b[0m\n\u001b[1;32m     47\u001b[0m             \u001b[0;32mreturn\u001b[0m \u001b[0;31m# None\u001b[0m\u001b[0;34m\u001b[0m\u001b[0m\n\u001b[1;32m     48\u001b[0m         \u001b[0;32mif\u001b[0m \u001b[0mevent\u001b[0m \u001b[0;34m==\u001b[0m \u001b[0;34m'line'\u001b[0m\u001b[0;34m:\u001b[0m\u001b[0;34m\u001b[0m\u001b[0m\n\u001b[0;32m---> 49\u001b[0;31m             \u001b[0;32mreturn\u001b[0m \u001b[0mself\u001b[0m\u001b[0;34m.\u001b[0m\u001b[0mdispatch_line\u001b[0m\u001b[0;34m(\u001b[0m\u001b[0mframe\u001b[0m\u001b[0;34m)\u001b[0m\u001b[0;34m\u001b[0m\u001b[0m\n\u001b[0m\u001b[1;32m     50\u001b[0m         \u001b[0;32mif\u001b[0m \u001b[0mevent\u001b[0m \u001b[0;34m==\u001b[0m \u001b[0;34m'call'\u001b[0m\u001b[0;34m:\u001b[0m\u001b[0;34m\u001b[0m\u001b[0m\n\u001b[1;32m     51\u001b[0m             \u001b[0;32mreturn\u001b[0m \u001b[0mself\u001b[0m\u001b[0;34m.\u001b[0m\u001b[0mdispatch_call\u001b[0m\u001b[0;34m(\u001b[0m\u001b[0mframe\u001b[0m\u001b[0;34m,\u001b[0m \u001b[0marg\u001b[0m\u001b[0;34m)\u001b[0m\u001b[0;34m\u001b[0m\u001b[0m\n",
      "\u001b[0;32m/Users/benlindsay/miniconda/envs/nfl-dash-py2/lib/python2.7/bdb.pyc\u001b[0m in \u001b[0;36mdispatch_line\u001b[0;34m(self, frame)\u001b[0m\n\u001b[1;32m     66\u001b[0m         \u001b[0;32mif\u001b[0m \u001b[0mself\u001b[0m\u001b[0;34m.\u001b[0m\u001b[0mstop_here\u001b[0m\u001b[0;34m(\u001b[0m\u001b[0mframe\u001b[0m\u001b[0;34m)\u001b[0m \u001b[0;32mor\u001b[0m \u001b[0mself\u001b[0m\u001b[0;34m.\u001b[0m\u001b[0mbreak_here\u001b[0m\u001b[0;34m(\u001b[0m\u001b[0mframe\u001b[0m\u001b[0;34m)\u001b[0m\u001b[0;34m:\u001b[0m\u001b[0;34m\u001b[0m\u001b[0m\n\u001b[1;32m     67\u001b[0m             \u001b[0mself\u001b[0m\u001b[0;34m.\u001b[0m\u001b[0muser_line\u001b[0m\u001b[0;34m(\u001b[0m\u001b[0mframe\u001b[0m\u001b[0;34m)\u001b[0m\u001b[0;34m\u001b[0m\u001b[0m\n\u001b[0;32m---> 68\u001b[0;31m             \u001b[0;32mif\u001b[0m \u001b[0mself\u001b[0m\u001b[0;34m.\u001b[0m\u001b[0mquitting\u001b[0m\u001b[0;34m:\u001b[0m \u001b[0;32mraise\u001b[0m \u001b[0mBdbQuit\u001b[0m\u001b[0;34m\u001b[0m\u001b[0m\n\u001b[0m\u001b[1;32m     69\u001b[0m         \u001b[0;32mreturn\u001b[0m \u001b[0mself\u001b[0m\u001b[0;34m.\u001b[0m\u001b[0mtrace_dispatch\u001b[0m\u001b[0;34m\u001b[0m\u001b[0m\n\u001b[1;32m     70\u001b[0m \u001b[0;34m\u001b[0m\u001b[0m\n",
      "\u001b[0;31mBdbQuit\u001b[0m: "
     ]
    }
   ],
   "source": [
    "year = 2016\n",
    "week = None\n",
    "team = None\n",
    "games = nflgame.games_gen(year, week, team, team)\n",
    "plays = nflgame.combine_plays(games)\n",
    "for p in plays:\n",
    "    if p.fumbles_rec_tds > 0:\n",
    "        print p\n",
    "        import pdb; pdb.set_trace()"
   ]
  },
  {
   "cell_type": "code",
   "execution_count": 43,
   "metadata": {},
   "outputs": [
    {
     "name": "stdout",
     "output_type": "stream",
     "text": [
      "(CLE, BAL 15, Q1) P.Murray extra point is Blocked (L.Guy), Center-C.Hughlett, Holder-B.Colquitt. DEFENSIVE TWO-POINT ATTEMPT. T.Young recovered the blocked kick. ATTEMPT SUCCEEDS.\n",
      "> <ipython-input-43-95b34a7135da>(8)<module>()\n",
      "-> s_list = str(p).split('. ')\n",
      "(Pdb) print dir(game)\n",
      "['_Game__drives', '__class__', '__delattr__', '__dict__', '__doc__', '__format__', '__getattr__', '__getattribute__', '__hash__', '__init__', '__module__', '__new__', '__reduce__', '__reduce_ex__', '__repr__', '__setattr__', '__sizeof__', '__str__', '__sub__', '__subclasshook__', '__weakref__', 'away', 'data', 'down', 'drives', 'eid', 'game_over', 'gamekey', 'home', 'is_home', 'loser', 'max_player_stats', 'nice_score', 'playing', 'rawData', 'save', 'schedule', 'score_away', 'score_away_q1', 'score_away_q2', 'score_away_q3', 'score_away_q4', 'score_away_q5', 'score_home', 'score_home_q1', 'score_home_q2', 'score_home_q3', 'score_home_q4', 'score_home_q5', 'scores', 'season', 'stats_away', 'stats_home', 'time', 'togo', 'winner']\n",
      "(Pdb) game.season\n",
      "<bound method Game.season of <nflgame.game.Game object at 0x1243669d0>>\n",
      "(Pdb) print game.season\n",
      "<bound method Game.season of <nflgame.game.Game object at 0x1243669d0>>\n",
      "(Pdb) print game.season()\n",
      "2016\n",
      "(Pdb) print game.week()\n",
      "*** AttributeError: \n",
      "(Pdb) print game.time()\n",
      "*** TypeError: 'GameClock' object is not callable\n",
      "(Pdb) print game.time\n",
      "Final\n",
      "(Pdb) game.schedule\n",
      "{u'week': 2, u'meridiem': u'PM', u'gamekey': u'56919', u'season_type': u'REG', u'away': u'BAL', u'year': 2016, u'month': 9, u'eid': u'2016091801', u'time': u'1:00', u'home': u'CLE', u'wday': u'Sun', u'day': 18}\n",
      "(Pdb) quit\n"
     ]
    },
    {
     "ename": "BdbQuit",
     "evalue": "",
     "output_type": "error",
     "traceback": [
      "\u001b[0;31m--------------------------------------------------\u001b[0m",
      "\u001b[0;31mBdbQuit\u001b[0m          Traceback (most recent call last)",
      "\u001b[0;32m<ipython-input-43-95b34a7135da>\u001b[0m in \u001b[0;36m<module>\u001b[0;34m()\u001b[0m\n\u001b[1;32m      6\u001b[0m             \u001b[0;32mprint\u001b[0m \u001b[0mp\u001b[0m\u001b[0;34m\u001b[0m\u001b[0m\n\u001b[1;32m      7\u001b[0m             \u001b[0;32mimport\u001b[0m \u001b[0mpdb\u001b[0m\u001b[0;34m;\u001b[0m \u001b[0mpdb\u001b[0m\u001b[0;34m.\u001b[0m\u001b[0mset_trace\u001b[0m\u001b[0;34m(\u001b[0m\u001b[0;34m)\u001b[0m\u001b[0;34m\u001b[0m\u001b[0m\n\u001b[0;32m----> 8\u001b[0;31m             \u001b[0ms_list\u001b[0m \u001b[0;34m=\u001b[0m \u001b[0mstr\u001b[0m\u001b[0;34m(\u001b[0m\u001b[0mp\u001b[0m\u001b[0;34m)\u001b[0m\u001b[0;34m.\u001b[0m\u001b[0msplit\u001b[0m\u001b[0;34m(\u001b[0m\u001b[0;34m'. '\u001b[0m\u001b[0;34m)\u001b[0m\u001b[0;34m\u001b[0m\u001b[0m\n\u001b[0m\u001b[1;32m      9\u001b[0m             \u001b[0mi\u001b[0m \u001b[0;34m=\u001b[0m \u001b[0;34m-\u001b[0m\u001b[0;36m1\u001b[0m\u001b[0;34m\u001b[0m\u001b[0m\n\u001b[1;32m     10\u001b[0m             \u001b[0;32mwhile\u001b[0m \u001b[0;34m'ATTEMPT SUCCEEDS'\u001b[0m \u001b[0;32mnot\u001b[0m \u001b[0;32min\u001b[0m \u001b[0ms_list\u001b[0m\u001b[0;34m[\u001b[0m\u001b[0mi\u001b[0m\u001b[0;34m+\u001b[0m\u001b[0;36m1\u001b[0m\u001b[0;34m]\u001b[0m\u001b[0;34m:\u001b[0m\u001b[0;34m\u001b[0m\u001b[0m\n",
      "\u001b[0;32m<ipython-input-43-95b34a7135da>\u001b[0m in \u001b[0;36m<module>\u001b[0;34m()\u001b[0m\n\u001b[1;32m      6\u001b[0m             \u001b[0;32mprint\u001b[0m \u001b[0mp\u001b[0m\u001b[0;34m\u001b[0m\u001b[0m\n\u001b[1;32m      7\u001b[0m             \u001b[0;32mimport\u001b[0m \u001b[0mpdb\u001b[0m\u001b[0;34m;\u001b[0m \u001b[0mpdb\u001b[0m\u001b[0;34m.\u001b[0m\u001b[0mset_trace\u001b[0m\u001b[0;34m(\u001b[0m\u001b[0;34m)\u001b[0m\u001b[0;34m\u001b[0m\u001b[0m\n\u001b[0;32m----> 8\u001b[0;31m             \u001b[0ms_list\u001b[0m \u001b[0;34m=\u001b[0m \u001b[0mstr\u001b[0m\u001b[0;34m(\u001b[0m\u001b[0mp\u001b[0m\u001b[0;34m)\u001b[0m\u001b[0;34m.\u001b[0m\u001b[0msplit\u001b[0m\u001b[0;34m(\u001b[0m\u001b[0;34m'. '\u001b[0m\u001b[0;34m)\u001b[0m\u001b[0;34m\u001b[0m\u001b[0m\n\u001b[0m\u001b[1;32m      9\u001b[0m             \u001b[0mi\u001b[0m \u001b[0;34m=\u001b[0m \u001b[0;34m-\u001b[0m\u001b[0;36m1\u001b[0m\u001b[0;34m\u001b[0m\u001b[0m\n\u001b[1;32m     10\u001b[0m             \u001b[0;32mwhile\u001b[0m \u001b[0;34m'ATTEMPT SUCCEEDS'\u001b[0m \u001b[0;32mnot\u001b[0m \u001b[0;32min\u001b[0m \u001b[0ms_list\u001b[0m\u001b[0;34m[\u001b[0m\u001b[0mi\u001b[0m\u001b[0;34m+\u001b[0m\u001b[0;36m1\u001b[0m\u001b[0;34m]\u001b[0m\u001b[0;34m:\u001b[0m\u001b[0;34m\u001b[0m\u001b[0m\n",
      "\u001b[0;32m/Users/benlindsay/miniconda/envs/nfl-dash-py2/lib/python2.7/bdb.pyc\u001b[0m in \u001b[0;36mtrace_dispatch\u001b[0;34m(self, frame, event, arg)\u001b[0m\n\u001b[1;32m     47\u001b[0m             \u001b[0;32mreturn\u001b[0m \u001b[0;31m# None\u001b[0m\u001b[0;34m\u001b[0m\u001b[0m\n\u001b[1;32m     48\u001b[0m         \u001b[0;32mif\u001b[0m \u001b[0mevent\u001b[0m \u001b[0;34m==\u001b[0m \u001b[0;34m'line'\u001b[0m\u001b[0;34m:\u001b[0m\u001b[0;34m\u001b[0m\u001b[0m\n\u001b[0;32m---> 49\u001b[0;31m             \u001b[0;32mreturn\u001b[0m \u001b[0mself\u001b[0m\u001b[0;34m.\u001b[0m\u001b[0mdispatch_line\u001b[0m\u001b[0;34m(\u001b[0m\u001b[0mframe\u001b[0m\u001b[0;34m)\u001b[0m\u001b[0;34m\u001b[0m\u001b[0m\n\u001b[0m\u001b[1;32m     50\u001b[0m         \u001b[0;32mif\u001b[0m \u001b[0mevent\u001b[0m \u001b[0;34m==\u001b[0m \u001b[0;34m'call'\u001b[0m\u001b[0;34m:\u001b[0m\u001b[0;34m\u001b[0m\u001b[0m\n\u001b[1;32m     51\u001b[0m             \u001b[0;32mreturn\u001b[0m \u001b[0mself\u001b[0m\u001b[0;34m.\u001b[0m\u001b[0mdispatch_call\u001b[0m\u001b[0;34m(\u001b[0m\u001b[0mframe\u001b[0m\u001b[0;34m,\u001b[0m \u001b[0marg\u001b[0m\u001b[0;34m)\u001b[0m\u001b[0;34m\u001b[0m\u001b[0m\n",
      "\u001b[0;32m/Users/benlindsay/miniconda/envs/nfl-dash-py2/lib/python2.7/bdb.pyc\u001b[0m in \u001b[0;36mdispatch_line\u001b[0;34m(self, frame)\u001b[0m\n\u001b[1;32m     66\u001b[0m         \u001b[0;32mif\u001b[0m \u001b[0mself\u001b[0m\u001b[0;34m.\u001b[0m\u001b[0mstop_here\u001b[0m\u001b[0;34m(\u001b[0m\u001b[0mframe\u001b[0m\u001b[0;34m)\u001b[0m \u001b[0;32mor\u001b[0m \u001b[0mself\u001b[0m\u001b[0;34m.\u001b[0m\u001b[0mbreak_here\u001b[0m\u001b[0;34m(\u001b[0m\u001b[0mframe\u001b[0m\u001b[0;34m)\u001b[0m\u001b[0;34m:\u001b[0m\u001b[0;34m\u001b[0m\u001b[0m\n\u001b[1;32m     67\u001b[0m             \u001b[0mself\u001b[0m\u001b[0;34m.\u001b[0m\u001b[0muser_line\u001b[0m\u001b[0;34m(\u001b[0m\u001b[0mframe\u001b[0m\u001b[0;34m)\u001b[0m\u001b[0;34m\u001b[0m\u001b[0m\n\u001b[0;32m---> 68\u001b[0;31m             \u001b[0;32mif\u001b[0m \u001b[0mself\u001b[0m\u001b[0;34m.\u001b[0m\u001b[0mquitting\u001b[0m\u001b[0;34m:\u001b[0m \u001b[0;32mraise\u001b[0m \u001b[0mBdbQuit\u001b[0m\u001b[0;34m\u001b[0m\u001b[0m\n\u001b[0m\u001b[1;32m     69\u001b[0m         \u001b[0;32mreturn\u001b[0m \u001b[0mself\u001b[0m\u001b[0;34m.\u001b[0m\u001b[0mtrace_dispatch\u001b[0m\u001b[0;34m\u001b[0m\u001b[0m\n\u001b[1;32m     70\u001b[0m \u001b[0;34m\u001b[0m\u001b[0m\n",
      "\u001b[0;31mBdbQuit\u001b[0m: "
     ]
    }
   ],
   "source": [
    "for game in nflgame.games(2016):\n",
    "    plays = nflgame.combine_plays([game])\n",
    "    for p in plays:\n",
    "        if ('DEFENSIVE TWO-POINT ATTEMPT' in str(p) and\n",
    "            'ATTEMPT SUCCEEDS' in str(p)):\n",
    "            print p\n",
    "            import pdb; pdb.set_trace()\n",
    "            s_list = str(p).split('. ')\n",
    "            i = -1\n",
    "            while 'ATTEMPT SUCCEEDS' not in s_list[i+1]:\n",
    "                i += 1\n",
    "            print i\n",
    "            print s_list[i]"
   ]
  },
  {
   "cell_type": "code",
   "execution_count": 5,
   "metadata": {},
   "outputs": [],
   "source": [
    "fdict_1 = {\n",
    "    'team_points_allowed': lambda x: 10 if x == 0 else (\n",
    "        7 if x < 7 else (\n",
    "            4 if x < 14 else (\n",
    "                1 if x < 21 else (\n",
    "                    0 if x < 28 else (\n",
    "                        -1 if x < 35 else -4\n",
    "                    )\n",
    "                )\n",
    "            )\n",
    "        )\n",
    "    )\n",
    "}"
   ]
  },
  {
   "cell_type": "code",
   "execution_count": 9,
   "metadata": {},
   "outputs": [
    {
     "data": {
      "text/plain": [
       "4"
      ]
     },
     "execution_count": 9,
     "metadata": {},
     "output_type": "execute_result"
    }
   ],
   "source": [
    "fdict_1['team_points_allowed'](7)"
   ]
  },
  {
   "cell_type": "code",
   "execution_count": 80,
   "metadata": {},
   "outputs": [
    {
     "name": "stdout",
     "output_type": "stream",
     "text": [
      "(BAL, DEN 40, Q2, 4 and 5) (8:18) S.Koch punts 38 yards to DEN 2, Center-M.Cox. W.Welker MUFFS catch, touched at DEN 2, RECOVERED by BAL-M.Cox at DEN 2. M.Cox to DEN 2 for no gain (W.Welker).\n",
      "1\n",
      "(BAL, BAL 42, Q3, 2 and 8) (1:09) (No Huddle) R.Rice up the middle to BAL 43 for 1 yard (C.Robertson). FUMBLES (C.Robertson), RECOVERED by CLE-D.Jackson at BAL 45. D.Jackson to BAL 45 for no gain (G.Gradkowski).\n",
      "1\n",
      "(BUF, BUF 45, Q2, 2 and 14) (15:00) E.Manuel sacked at BUF 36 for -9 yards (C.Canty). FUMBLES (C.Canty), RECOVERED by BAL-B.Williams at BUF 27. B.Williams to BUF 27 for no gain (L.Smith).\n",
      "1\n",
      "(BAL, BAL 25, Q1, 1 and 10) (3:50) R.Rice right tackle to BAL 28 for 3 yards (P.Soliai). FUMBLES (P.Soliai), RECOVERED by MIA-D.Ellerbe at BAL 29. D.Ellerbe to BAL 29 for no gain (V.Leach).\n",
      "1\n",
      "(BAL, BAL 30, Q2, 4 and 13) (9:13) (Punt formation) S.Koch punts 6 yards to BAL 36, Center-M.Cox. J.Kuhn MUFFS catch, RECOVERED by BAL-J.Ihedigbo at BAL 41. J.Ihedigbo to BAL 41 for no gain (B.Bostick). GB 82 Deflected the punt\n",
      "1\n",
      "(BAL, BAL 34, Q2, 2 and 10) (:12) (Shotgun) J.Flacco sacked at BAL 33 for -1 yards (N.Perry). FUMBLES (N.Perry), RECOVERED by GB-D.Jones at BAL 33. D.Jones to BAL 13 for 20 yards (G.Gradkowski).\n",
      "1\n",
      "(PIT, PIT 31, Q2, 2 and 12) (:50) B.Roethlisberger pass short left to H.Miller to PIT 45 for 14 yards (D.Smith). FUMBLES (D.Smith), RECOVERED by BAL-M.Elam at PIT 45. M.Elam to PIT 38 for 7 yards (D.DeCastro).\n",
      "1\n",
      "(CLE, CLE 41, Q2, 2 and 8) (8:01) W.McGahee left guard to CLE 41 for no gain (P.McPhee). FUMBLES (P.McPhee), RECOVERED by BAL-J.Ihedigbo at CLE 38. J.Ihedigbo to CLE 38 for no gain (G.Little).\n",
      "1\n",
      "(CLE, CLE 49, Q3, 4 and 1) (6:01) (Punt formation) S.Lanning punts 38 yards to BAL 13, Center-C.Yount. T.Doss MUFFS catch, touched at BAL 13, RECOVERED by CLE-E.Martin at BAL 11. E.Martin to BAL 11 for no gain (C.Graham).\n",
      "1\n",
      "(BAL, CIN 42, Q4, 3 and 10) (4:12) (No Huddle, Shotgun) J.Flacco sacked at CIN 50 for -8 yards (C.Dunlap). FUMBLES (C.Dunlap), RECOVERED by CIN-J.Harrison at CIN 50. J.Harrison to CIN 50 for no gain (J.Flacco).\n",
      "1\n",
      "(NYJ, NYJ 26, Q2, 3 and 13) (9:18) (No Huddle, Shotgun) G.Smith FUMBLES (Aborted) at NYJ 26, RECOVERED by BAL-T.Suggs at NYJ 18. T.Suggs to NYJ 18 for no gain (D.Ferguson).\n",
      "1\n",
      "(MIN, MIN 20, Q1, 1 and 20) (6:36) T.Gerhart left guard to MIN 22 for 2 yards (J.Ihedigbo). FUMBLES (J.Ihedigbo), RECOVERED by BAL-M.Elam at MIN 25. M.Elam to MIN 25 for no gain (P.Loadholt). The Replay Assistant challenged the fumble ruling, and the play was Upheld.\n",
      "1\n",
      "(BAL, BAL 20, Q4, 1 and 10) (2:05) T.Taylor Aborted. G.Gradkowski FUMBLES at BAL 20, RECOVERED by NE-Cha.Jones at BAL -3. TOUCHDOWN.\n",
      "1\n"
     ]
    }
   ],
   "source": [
    "games = nflgame.games_gen(year, week, team, team)\n",
    "plays = nflgame.combine_plays(games)\n",
    "stat = 'defense_frec'\n",
    "s = 0\n",
    "for p in plays.filter():\n",
    "    if getattr(p, stat) > 0:\n",
    "        print p\n",
    "        print getattr(p, stat)"
   ]
  },
  {
   "cell_type": "code",
   "execution_count": 80,
   "metadata": {},
   "outputs": [
    {
     "name": "stdout",
     "output_type": "stream",
     "text": [
      "(BAL, DEN 40, Q2, 4 and 5) (8:18) S.Koch punts 38 yards to DEN 2, Center-M.Cox. W.Welker MUFFS catch, touched at DEN 2, RECOVERED by BAL-M.Cox at DEN 2. M.Cox to DEN 2 for no gain (W.Welker).\n",
      "1\n",
      "(BAL, BAL 42, Q3, 2 and 8) (1:09) (No Huddle) R.Rice up the middle to BAL 43 for 1 yard (C.Robertson). FUMBLES (C.Robertson), RECOVERED by CLE-D.Jackson at BAL 45. D.Jackson to BAL 45 for no gain (G.Gradkowski).\n",
      "1\n",
      "(BUF, BUF 45, Q2, 2 and 14) (15:00) E.Manuel sacked at BUF 36 for -9 yards (C.Canty). FUMBLES (C.Canty), RECOVERED by BAL-B.Williams at BUF 27. B.Williams to BUF 27 for no gain (L.Smith).\n",
      "1\n",
      "(BAL, BAL 25, Q1, 1 and 10) (3:50) R.Rice right tackle to BAL 28 for 3 yards (P.Soliai). FUMBLES (P.Soliai), RECOVERED by MIA-D.Ellerbe at BAL 29. D.Ellerbe to BAL 29 for no gain (V.Leach).\n",
      "1\n",
      "(BAL, BAL 30, Q2, 4 and 13) (9:13) (Punt formation) S.Koch punts 6 yards to BAL 36, Center-M.Cox. J.Kuhn MUFFS catch, RECOVERED by BAL-J.Ihedigbo at BAL 41. J.Ihedigbo to BAL 41 for no gain (B.Bostick). GB 82 Deflected the punt\n",
      "1\n",
      "(BAL, BAL 34, Q2, 2 and 10) (:12) (Shotgun) J.Flacco sacked at BAL 33 for -1 yards (N.Perry). FUMBLES (N.Perry), RECOVERED by GB-D.Jones at BAL 33. D.Jones to BAL 13 for 20 yards (G.Gradkowski).\n",
      "1\n",
      "(PIT, PIT 31, Q2, 2 and 12) (:50) B.Roethlisberger pass short left to H.Miller to PIT 45 for 14 yards (D.Smith). FUMBLES (D.Smith), RECOVERED by BAL-M.Elam at PIT 45. M.Elam to PIT 38 for 7 yards (D.DeCastro).\n",
      "1\n",
      "(CLE, CLE 41, Q2, 2 and 8) (8:01) W.McGahee left guard to CLE 41 for no gain (P.McPhee). FUMBLES (P.McPhee), RECOVERED by BAL-J.Ihedigbo at CLE 38. J.Ihedigbo to CLE 38 for no gain (G.Little).\n",
      "1\n",
      "(CLE, CLE 49, Q3, 4 and 1) (6:01) (Punt formation) S.Lanning punts 38 yards to BAL 13, Center-C.Yount. T.Doss MUFFS catch, touched at BAL 13, RECOVERED by CLE-E.Martin at BAL 11. E.Martin to BAL 11 for no gain (C.Graham).\n",
      "1\n",
      "(BAL, CIN 42, Q4, 3 and 10) (4:12) (No Huddle, Shotgun) J.Flacco sacked at CIN 50 for -8 yards (C.Dunlap). FUMBLES (C.Dunlap), RECOVERED by CIN-J.Harrison at CIN 50. J.Harrison to CIN 50 for no gain (J.Flacco).\n",
      "1\n",
      "(NYJ, NYJ 26, Q2, 3 and 13) (9:18) (No Huddle, Shotgun) G.Smith FUMBLES (Aborted) at NYJ 26, RECOVERED by BAL-T.Suggs at NYJ 18. T.Suggs to NYJ 18 for no gain (D.Ferguson).\n",
      "1\n",
      "(MIN, MIN 20, Q1, 1 and 20) (6:36) T.Gerhart left guard to MIN 22 for 2 yards (J.Ihedigbo). FUMBLES (J.Ihedigbo), RECOVERED by BAL-M.Elam at MIN 25. M.Elam to MIN 25 for no gain (P.Loadholt). The Replay Assistant challenged the fumble ruling, and the play was Upheld.\n",
      "1\n",
      "(BAL, BAL 20, Q4, 1 and 10) (2:05) T.Taylor Aborted. G.Gradkowski FUMBLES at BAL 20, RECOVERED by NE-Cha.Jones at BAL -3. TOUCHDOWN.\n",
      "1\n"
     ]
    }
   ],
   "source": [
    "games = nflgame.games_gen(year, week, team, team)\n",
    "plays = nflgame.combine_plays(games)\n",
    "stat = 'defense_frec'\n",
    "s = 0\n",
    "for p in plays.filter():\n",
    "    if getattr(p, stat) > 0:\n",
    "        print p\n",
    "        print getattr(p, stat)"
   ]
  },
  {
   "cell_type": "code",
   "execution_count": 15,
   "metadata": {},
   "outputs": [
    {
     "name": "stdout",
     "output_type": "stream",
     "text": [
      "(ATL, KC 2, Q4) (Pass formation) TWO-POINT CONVERSION ATTEMPT. M.Ryan pass to A.Hooper is incomplete. ATTEMPT FAILS. DEFENSIVE TWO-POINT ATTEMPT. E.Berry intercepted the try attempt. ATTEMPT SUCCEEDS.\n"
     ]
    }
   ],
   "source": [
    "s = \"(ATL, KC 2, Q4) (Pass formation) TWO-POINT CONVERSION ATTEMPT. M.Ryan pass to A.Hooper is incomplete. ATTEMPT FAILS. DEFENSIVE TWO-POINT ATTEMPT. E.Berry intercepted the try attempt. ATTEMPT SUCCEEDS.\"\n",
    "print s"
   ]
  },
  {
   "cell_type": "code",
   "execution_count": 16,
   "metadata": {},
   "outputs": [
    {
     "data": {
      "text/plain": [
       "['(ATL, KC 2, Q4) (Pass formation) TWO-POINT CONVERSION ATTEMPT',\n",
       " 'M.Ryan pass to A.Hooper is incomplete',\n",
       " 'ATTEMPT FAILS',\n",
       " 'DEFENSIVE TWO-POINT ATTEMPT',\n",
       " 'E.Berry intercepted the try attempt',\n",
       " 'ATTEMPT SUCCEEDS.']"
      ]
     },
     "execution_count": 16,
     "metadata": {},
     "output_type": "execute_result"
    }
   ],
   "source": [
    "s_list = s.split('. ')\n",
    "s_list"
   ]
  },
  {
   "cell_type": "code",
   "execution_count": 18,
   "metadata": {},
   "outputs": [
    {
     "name": "stdout",
     "output_type": "stream",
     "text": [
      "5\n",
      "ATTEMPT SUCCEEDS.\n"
     ]
    }
   ],
   "source": [
    "i = 0\n",
    "while 'ATTEMPT SUCCEEDS' not in s_list[i]:\n",
    "    i += 1\n",
    "print i\n",
    "print s_list[i]"
   ]
  },
  {
   "cell_type": "code",
   "execution_count": 20,
   "metadata": {},
   "outputs": [],
   "source": [
    "for p in plays:\n",
    "    print dir(p)"
   ]
  },
  {
   "cell_type": "code",
   "execution_count": 46,
   "metadata": {},
   "outputs": [],
   "source": [
    "for game in games:\n",
    "    import pdb; pdb.set_trace()\n",
    "    game_0 = game\n",
    "    break"
   ]
  },
  {
   "cell_type": "code",
   "execution_count": 50,
   "metadata": {},
   "outputs": [
    {
     "data": {
      "text/plain": [
       "[]"
      ]
     },
     "execution_count": 50,
     "metadata": {},
     "output_type": "execute_result"
    }
   ],
   "source": [
    "list(games)"
   ]
  },
  {
   "cell_type": "code",
   "execution_count": 21,
   "metadata": {},
   "outputs": [
    {
     "name": "stdout",
     "output_type": "stream",
     "text": [
      "Counter()\n"
     ]
    }
   ],
   "source": [
    "from collections import Counter\n",
    "c = Counter()\n",
    "a = c['bob']\n",
    "print c"
   ]
  },
  {
   "cell_type": "code",
   "execution_count": 22,
   "metadata": {},
   "outputs": [
    {
     "data": {
      "text/plain": [
       "0"
      ]
     },
     "execution_count": 22,
     "metadata": {},
     "output_type": "execute_result"
    }
   ],
   "source": [
    "a"
   ]
  },
  {
   "cell_type": "code",
   "execution_count": 23,
   "metadata": {},
   "outputs": [],
   "source": [
    "c['bob'] += 5"
   ]
  },
  {
   "cell_type": "code",
   "execution_count": 24,
   "metadata": {},
   "outputs": [
    {
     "data": {
      "text/plain": [
       "Counter({'bob': 5})"
      ]
     },
     "execution_count": 24,
     "metadata": {},
     "output_type": "execute_result"
    }
   ],
   "source": [
    "c"
   ]
  },
  {
   "cell_type": "code",
   "execution_count": 25,
   "metadata": {},
   "outputs": [
    {
     "data": {
      "text/plain": [
       "True"
      ]
     },
     "execution_count": 25,
     "metadata": {},
     "output_type": "execute_result"
    }
   ],
   "source": [
    "'bob' in c"
   ]
  },
  {
   "cell_type": "code",
   "execution_count": 26,
   "metadata": {},
   "outputs": [
    {
     "data": {
      "text/plain": [
       "False"
      ]
     },
     "execution_count": 26,
     "metadata": {},
     "output_type": "execute_result"
    }
   ],
   "source": [
    "'joe' in c"
   ]
  },
  {
   "cell_type": "code",
   "execution_count": 27,
   "metadata": {},
   "outputs": [],
   "source": [
    "from pathlib2 import Path"
   ]
  },
  {
   "cell_type": "code",
   "execution_count": 28,
   "metadata": {},
   "outputs": [
    {
     "data": {
      "text/plain": [
       "PosixPath('/Users/benlindsay')"
      ]
     },
     "execution_count": 28,
     "metadata": {},
     "output_type": "execute_result"
    }
   ],
   "source": [
    "p = Path('/Users/benlindsay')\n",
    "p"
   ]
  },
  {
   "cell_type": "code",
   "execution_count": 32,
   "metadata": {},
   "outputs": [
    {
     "data": {
      "text/plain": [
       "['/Users/benlindsay/.local/bin/catbin.exe',\n",
       " '/Users/benlindsay/.local/bin/cd_func.sh',\n",
       " '/Users/benlindsay/.local/bin/cdg.sh',\n",
       " '/Users/benlindsay/.local/bin/chromedriver',\n",
       " '/Users/benlindsay/.local/bin/clang-format',\n",
       " '/Users/benlindsay/.local/bin/clang-format.py',\n",
       " '/Users/benlindsay/.local/bin/lsar',\n",
       " '/Users/benlindsay/.local/bin/open_remote.sh',\n",
       " '/Users/benlindsay/.local/bin/open_remote_bridges.sh',\n",
       " '/Users/benlindsay/.local/bin/passmenu',\n",
       " '/Users/benlindsay/.local/bin/PDFconcat',\n",
       " '/Users/benlindsay/.local/bin/prepare_remote_debug.sh',\n",
       " '/Users/benlindsay/.local/bin/readjson.py',\n",
       " '/Users/benlindsay/.local/bin/small_funcs.sh',\n",
       " '/Users/benlindsay/.local/bin/unar',\n",
       " '/Users/benlindsay/.local/bin/vim',\n",
       " '/Users/benlindsay/.local/bin/website_script.sh']"
      ]
     },
     "execution_count": 32,
     "metadata": {},
     "output_type": "execute_result"
    }
   ],
   "source": [
    "from glob import glob\n",
    "glob(str(p / '.local' / 'bin' / '*'))"
   ]
  },
  {
   "cell_type": "code",
   "execution_count": 39,
   "metadata": {},
   "outputs": [
    {
     "data": {
      "text/plain": [
       "<generator object glob at 0x1109f8b40>"
      ]
     },
     "execution_count": 39,
     "metadata": {},
     "output_type": "execute_result"
    }
   ],
   "source": [
    "l = p.glob('*')\n",
    "l"
   ]
  },
  {
   "cell_type": "code",
   "execution_count": 40,
   "metadata": {},
   "outputs": [
    {
     "name": "stdout",
     "output_type": "stream",
     "text": [
      "<type 'str'>\n",
      "<type 'str'>\n",
      "<type 'str'>\n",
      "<type 'str'>\n",
      "<type 'str'>\n",
      "<type 'str'>\n",
      "<type 'str'>\n",
      "<type 'str'>\n",
      "<type 'str'>\n",
      "<type 'str'>\n",
      "<type 'str'>\n",
      "<type 'str'>\n",
      "<type 'str'>\n",
      "<type 'str'>\n",
      "<type 'str'>\n",
      "<type 'str'>\n",
      "<type 'str'>\n",
      "<type 'str'>\n",
      "<type 'str'>\n",
      "<type 'str'>\n",
      "<type 'str'>\n",
      "<type 'str'>\n",
      "<type 'str'>\n",
      "<type 'str'>\n",
      "<type 'str'>\n",
      "<type 'str'>\n",
      "<type 'str'>\n",
      "<type 'str'>\n",
      "<type 'str'>\n",
      "<type 'str'>\n",
      "<type 'str'>\n",
      "<type 'str'>\n",
      "<type 'str'>\n",
      "<type 'str'>\n",
      "<type 'str'>\n",
      "<type 'str'>\n",
      "<type 'str'>\n",
      "<type 'str'>\n",
      "<type 'str'>\n",
      "<type 'str'>\n",
      "<type 'str'>\n",
      "<type 'str'>\n",
      "<type 'str'>\n",
      "<type 'str'>\n",
      "<type 'str'>\n",
      "<type 'str'>\n",
      "<type 'str'>\n",
      "<type 'str'>\n",
      "<type 'str'>\n",
      "<type 'str'>\n",
      "<type 'str'>\n",
      "<type 'str'>\n",
      "<type 'str'>\n",
      "<type 'str'>\n",
      "<type 'str'>\n",
      "<type 'str'>\n",
      "<type 'str'>\n",
      "<type 'str'>\n",
      "<type 'str'>\n",
      "<type 'str'>\n",
      "<type 'str'>\n",
      "<type 'str'>\n",
      "<type 'str'>\n",
      "<type 'str'>\n",
      "<type 'str'>\n",
      "<type 'str'>\n",
      "<type 'str'>\n",
      "<type 'str'>\n",
      "<type 'str'>\n",
      "<type 'str'>\n",
      "<type 'str'>\n",
      "<type 'str'>\n",
      "<type 'str'>\n",
      "<type 'str'>\n",
      "<type 'str'>\n",
      "<type 'str'>\n",
      "<type 'str'>\n",
      "<type 'str'>\n",
      "<type 'str'>\n",
      "<type 'str'>\n",
      "<type 'str'>\n",
      "<type 'str'>\n",
      "<type 'str'>\n",
      "<type 'str'>\n",
      "<type 'str'>\n",
      "<type 'str'>\n",
      "<type 'str'>\n",
      "<type 'str'>\n",
      "<type 'str'>\n",
      "<type 'str'>\n",
      "<type 'str'>\n",
      "<type 'str'>\n",
      "<type 'str'>\n",
      "<type 'str'>\n",
      "<type 'str'>\n",
      "<type 'str'>\n",
      "<type 'str'>\n",
      "<type 'str'>\n",
      "<type 'str'>\n",
      "<type 'str'>\n",
      "<type 'str'>\n",
      "<type 'str'>\n",
      "<type 'str'>\n",
      "<type 'str'>\n",
      "<type 'str'>\n",
      "<type 'str'>\n",
      "<type 'str'>\n",
      "<type 'str'>\n",
      "<type 'str'>\n",
      "<type 'str'>\n",
      "<type 'str'>\n",
      "<type 'str'>\n",
      "<type 'str'>\n",
      "<type 'str'>\n",
      "<type 'str'>\n",
      "<type 'str'>\n",
      "<type 'str'>\n",
      "<type 'str'>\n",
      "<type 'str'>\n",
      "<type 'str'>\n",
      "<type 'str'>\n",
      "<type 'str'>\n",
      "<type 'str'>\n",
      "<type 'str'>\n",
      "<type 'str'>\n",
      "<type 'str'>\n",
      "<type 'str'>\n",
      "<type 'str'>\n",
      "<type 'str'>\n",
      "<type 'str'>\n",
      "<type 'str'>\n",
      "<type 'str'>\n",
      "<type 'str'>\n",
      "<type 'str'>\n",
      "<type 'str'>\n",
      "<type 'str'>\n",
      "<type 'str'>\n",
      "<type 'str'>\n",
      "<type 'str'>\n",
      "<type 'str'>\n",
      "<type 'str'>\n",
      "<type 'str'>\n",
      "<type 'str'>\n",
      "<type 'str'>\n",
      "<type 'str'>\n",
      "<type 'str'>\n",
      "<type 'str'>\n",
      "<type 'str'>\n",
      "<type 'str'>\n"
     ]
    }
   ],
   "source": [
    "for f in p.glob('*'):\n",
    "    print type(f.name)"
   ]
  },
  {
   "cell_type": "code",
   "execution_count": 42,
   "metadata": {},
   "outputs": [
    {
     "name": "stdout",
     "output_type": "stream",
     "text": [
      "a is 5\n"
     ]
    }
   ],
   "source": [
    "a=5\n",
    "print \"a is {}\".format(a)"
   ]
  },
  {
   "cell_type": "code",
   "execution_count": null,
   "metadata": {},
   "outputs": [],
   "source": []
  }
 ],
 "metadata": {
  "kernelspec": {
   "display_name": "Python 2",
   "language": "python",
   "name": "python2"
  },
  "language_info": {
   "codemirror_mode": {
    "name": "ipython",
    "version": 2
   },
   "file_extension": ".py",
   "mimetype": "text/x-python",
   "name": "python",
   "nbconvert_exporter": "python",
   "pygments_lexer": "ipython2",
   "version": "2.7.15"
  }
 },
 "nbformat": 4,
 "nbformat_minor": 2
}
